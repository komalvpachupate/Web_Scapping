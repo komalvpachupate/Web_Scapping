{
 "cells": [
  {
   "cell_type": "code",
   "execution_count": 1,
   "metadata": {},
   "outputs": [],
   "source": [
    "import urllib.request\n",
    "from bs4 import BeautifulSoup as bs\n",
    "import re\n",
    "import pandas as pd"
   ]
  },
  {
   "cell_type": "code",
   "execution_count": 8,
   "metadata": {},
   "outputs": [
    {
     "name": "stdout",
     "output_type": "stream",
     "text": [
      "['id=\"random.seed', 'id=\"random.getstate', 'id=\"random.setstate', 'id=\"random.randbytes', 'id=\"random.randrange', 'id=\"random.randint', 'id=\"random.getrandbits', 'id=\"random.choice', 'id=\"random.choices', 'id=\"random.shuffle', 'id=\"random.sample', 'id=\"random.random', 'id=\"random.uniform', 'id=\"random.triangular', 'id=\"random.betavariate', 'id=\"random.expovariate', 'id=\"random.gammavariate', 'id=\"random.gauss', 'id=\"random.lognormvariate', 'id=\"random.normalvariate', 'id=\"random.vonmisesvariate', 'id=\"random.paretovariate', 'id=\"random.weibullvariate', 'id=\"random.Random', 'id=\"random.SystemRandom']\n"
     ]
    }
   ],
   "source": [
    "#load html code from url\n",
    "page = urllib.request.urlopen(\"https://docs.python.org/3/library/random.html\")\n",
    "soup = bs(page)\n",
    "#soup\n",
    "\n",
    "names = soup.body.findAll('dt')\n",
    "#print(names)\n",
    "\n",
    "function_names = re.findall('id=\"random.\\w+',str(names))\n",
    "\n",
    "print(function_names)"
   ]
  },
  {
   "cell_type": "code",
   "execution_count": 9,
   "metadata": {},
   "outputs": [
    {
     "name": "stdout",
     "output_type": "stream",
     "text": [
      "['random.seed', 'random.getstate', 'random.setstate', 'random.randbytes', 'random.randrange', 'random.randint', 'random.getrandbits', 'random.choice', 'random.choices', 'random.shuffle', 'random.sample', 'random.random', 'random.uniform', 'random.triangular', 'random.betavariate', 'random.expovariate', 'random.gammavariate', 'random.gauss', 'random.lognormvariate', 'random.normalvariate', 'random.vonmisesvariate', 'random.paretovariate', 'random.weibullvariate', 'random.Random', 'random.SystemRandom']\n"
     ]
    }
   ],
   "source": [
    "function_names = [item[4:] for item in function_names]\n",
    "print(function_names)"
   ]
  },
  {
   "cell_type": "code",
   "execution_count": 10,
   "metadata": {},
   "outputs": [
    {
     "name": "stdout",
     "output_type": "stream",
     "text": [
      "[<dd><p>Initialize the random number generator.</p>\n",
      "<p>If <em>a</em> is omitted or <code class=\"docutils literal notranslate\"><span class=\"pre\">None</span></code>, the current system time is used.  If\n",
      "randomness sources are provided by the operating system, they are used\n",
      "instead of the system time (see the <a class=\"reference internal\" href=\"os.html#os.urandom\" title=\"os.urandom\"><code class=\"xref py py-func docutils literal notranslate\"><span class=\"pre\">os.urandom()</span></code></a> function for details\n",
      "on availability).</p>\n",
      "<p>If <em>a</em> is an int, it is used directly.</p>\n",
      "<p>With version 2 (the default), a <a class=\"reference internal\" href=\"stdtypes.html#str\" title=\"str\"><code class=\"xref py py-class docutils literal notranslate\"><span class=\"pre\">str</span></code></a>, <a class=\"reference internal\" href=\"stdtypes.html#bytes\" title=\"bytes\"><code class=\"xref py py-class docutils literal notranslate\"><span class=\"pre\">bytes</span></code></a>, or <a class=\"reference internal\" href=\"stdtypes.html#bytearray\" title=\"bytearray\"><code class=\"xref py py-class docutils literal notranslate\"><span class=\"pre\">bytearray</span></code></a>\n",
      "object gets converted to an <a class=\"reference internal\" href=\"functions.html#int\" title=\"int\"><code class=\"xref py py-class docutils literal notranslate\"><span class=\"pre\">int</span></code></a> and all of its bits are used.</p>\n",
      "<p>With version 1 (provided for reproducing random sequences from older versions\n",
      "of Python), the algorithm for <a class=\"reference internal\" href=\"stdtypes.html#str\" title=\"str\"><code class=\"xref py py-class docutils literal notranslate\"><span class=\"pre\">str</span></code></a> and <a class=\"reference internal\" href=\"stdtypes.html#bytes\" title=\"bytes\"><code class=\"xref py py-class docutils literal notranslate\"><span class=\"pre\">bytes</span></code></a> generates a\n",
      "narrower range of seeds.</p>\n",
      "<div class=\"versionchanged\">\n",
      "<p><span class=\"versionmodified changed\">Changed in version 3.2: </span>Moved to the version 2 scheme which uses all of the bits in a string seed.</p>\n",
      "</div>\n",
      "<div class=\"deprecated\">\n",
      "<p><span class=\"versionmodified deprecated\">Deprecated since version 3.9: </span>In the future, the <em>seed</em> must be one of the following types:\n",
      "<em>NoneType</em>, <a class=\"reference internal\" href=\"functions.html#int\" title=\"int\"><code class=\"xref py py-class docutils literal notranslate\"><span class=\"pre\">int</span></code></a>, <a class=\"reference internal\" href=\"functions.html#float\" title=\"float\"><code class=\"xref py py-class docutils literal notranslate\"><span class=\"pre\">float</span></code></a>, <a class=\"reference internal\" href=\"stdtypes.html#str\" title=\"str\"><code class=\"xref py py-class docutils literal notranslate\"><span class=\"pre\">str</span></code></a>,\n",
      "<a class=\"reference internal\" href=\"stdtypes.html#bytes\" title=\"bytes\"><code class=\"xref py py-class docutils literal notranslate\"><span class=\"pre\">bytes</span></code></a>, or <a class=\"reference internal\" href=\"stdtypes.html#bytearray\" title=\"bytearray\"><code class=\"xref py py-class docutils literal notranslate\"><span class=\"pre\">bytearray</span></code></a>.</p>\n",
      "</div>\n",
      "</dd>, <dd><p>Return an object capturing the current internal state of the generator.  This\n",
      "object can be passed to <a class=\"reference internal\" href=\"#random.setstate\" title=\"random.setstate\"><code class=\"xref py py-func docutils literal notranslate\"><span class=\"pre\">setstate()</span></code></a> to restore the state.</p>\n",
      "</dd>, <dd><p><em>state</em> should have been obtained from a previous call to <a class=\"reference internal\" href=\"#random.getstate\" title=\"random.getstate\"><code class=\"xref py py-func docutils literal notranslate\"><span class=\"pre\">getstate()</span></code></a>, and\n",
      "<a class=\"reference internal\" href=\"#random.setstate\" title=\"random.setstate\"><code class=\"xref py py-func docutils literal notranslate\"><span class=\"pre\">setstate()</span></code></a> restores the internal state of the generator to what it was at\n",
      "the time <a class=\"reference internal\" href=\"#random.getstate\" title=\"random.getstate\"><code class=\"xref py py-func docutils literal notranslate\"><span class=\"pre\">getstate()</span></code></a> was called.</p>\n",
      "</dd>, <dd><p>Generate <em>n</em> random bytes.</p>\n",
      "<p>This method should not be used for generating security tokens.\n",
      "Use <a class=\"reference internal\" href=\"secrets.html#secrets.token_bytes\" title=\"secrets.token_bytes\"><code class=\"xref py py-func docutils literal notranslate\"><span class=\"pre\">secrets.token_bytes()</span></code></a> instead.</p>\n",
      "<div class=\"versionadded\">\n",
      "<p><span class=\"versionmodified added\">New in version 3.9.</span></p>\n",
      "</div>\n",
      "</dd>, <dd><p>Return a randomly selected element from <code class=\"docutils literal notranslate\"><span class=\"pre\">range(start,</span> <span class=\"pre\">stop,</span> <span class=\"pre\">step)</span></code>.  This is\n",
      "equivalent to <code class=\"docutils literal notranslate\"><span class=\"pre\">choice(range(start,</span> <span class=\"pre\">stop,</span> <span class=\"pre\">step))</span></code>, but doesn’t actually build a\n",
      "range object.</p>\n",
      "<p>The positional argument pattern matches that of <a class=\"reference internal\" href=\"stdtypes.html#range\" title=\"range\"><code class=\"xref py py-func docutils literal notranslate\"><span class=\"pre\">range()</span></code></a>.  Keyword arguments\n",
      "should not be used because the function may use them in unexpected ways.</p>\n",
      "<div class=\"versionchanged\">\n",
      "<p><span class=\"versionmodified changed\">Changed in version 3.2: </span><a class=\"reference internal\" href=\"#random.randrange\" title=\"random.randrange\"><code class=\"xref py py-meth docutils literal notranslate\"><span class=\"pre\">randrange()</span></code></a> is more sophisticated about producing equally distributed\n",
      "values.  Formerly it used a style like <code class=\"docutils literal notranslate\"><span class=\"pre\">int(random()*n)</span></code> which could produce\n",
      "slightly uneven distributions.</p>\n",
      "</div>\n",
      "<div class=\"deprecated\">\n",
      "<p><span class=\"versionmodified deprecated\">Deprecated since version 3.10: </span>The automatic conversion of non-integer types to equivalent integers is\n",
      "deprecated.  Currently <code class=\"docutils literal notranslate\"><span class=\"pre\">randrange(10.0)</span></code> is losslessly converted to\n",
      "<code class=\"docutils literal notranslate\"><span class=\"pre\">randrange(10)</span></code>.  In the future, this will raise a <a class=\"reference internal\" href=\"exceptions.html#TypeError\" title=\"TypeError\"><code class=\"xref py py-exc docutils literal notranslate\"><span class=\"pre\">TypeError</span></code></a>.</p>\n",
      "</div>\n",
      "<div class=\"deprecated\">\n",
      "<p><span class=\"versionmodified deprecated\">Deprecated since version 3.10: </span>The exception raised for non-integral values such as <code class=\"docutils literal notranslate\"><span class=\"pre\">randrange(10.5)</span></code>\n",
      "or <code class=\"docutils literal notranslate\"><span class=\"pre\">randrange('10')</span></code> will be changed from <a class=\"reference internal\" href=\"exceptions.html#ValueError\" title=\"ValueError\"><code class=\"xref py py-exc docutils literal notranslate\"><span class=\"pre\">ValueError</span></code></a> to\n",
      "<a class=\"reference internal\" href=\"exceptions.html#TypeError\" title=\"TypeError\"><code class=\"xref py py-exc docutils literal notranslate\"><span class=\"pre\">TypeError</span></code></a>.</p>\n",
      "</div>\n",
      "</dd>, <dd><p>Return a random integer <em>N</em> such that <code class=\"docutils literal notranslate\"><span class=\"pre\">a</span> <span class=\"pre\">&lt;=</span> <span class=\"pre\">N</span> <span class=\"pre\">&lt;=</span> <span class=\"pre\">b</span></code>.  Alias for\n",
      "<code class=\"docutils literal notranslate\"><span class=\"pre\">randrange(a,</span> <span class=\"pre\">b+1)</span></code>.</p>\n",
      "</dd>, <dd><p>Returns a non-negative Python integer with <em>k</em> random bits. This method\n",
      "is supplied with the MersenneTwister generator and some other generators\n",
      "may also provide it as an optional part of the API. When available,\n",
      "<a class=\"reference internal\" href=\"#random.getrandbits\" title=\"random.getrandbits\"><code class=\"xref py py-meth docutils literal notranslate\"><span class=\"pre\">getrandbits()</span></code></a> enables <a class=\"reference internal\" href=\"#random.randrange\" title=\"random.randrange\"><code class=\"xref py py-meth docutils literal notranslate\"><span class=\"pre\">randrange()</span></code></a> to handle arbitrarily large\n",
      "ranges.</p>\n",
      "<div class=\"versionchanged\">\n",
      "<p><span class=\"versionmodified changed\">Changed in version 3.9: </span>This method now accepts zero for <em>k</em>.</p>\n",
      "</div>\n",
      "</dd>, <dd><p>Return a random element from the non-empty sequence <em>seq</em>. If <em>seq</em> is empty,\n",
      "raises <a class=\"reference internal\" href=\"exceptions.html#IndexError\" title=\"IndexError\"><code class=\"xref py py-exc docutils literal notranslate\"><span class=\"pre\">IndexError</span></code></a>.</p>\n",
      "</dd>, <dd><p>Return a <em>k</em> sized list of elements chosen from the <em>population</em> with replacement.\n",
      "If the <em>population</em> is empty, raises <a class=\"reference internal\" href=\"exceptions.html#IndexError\" title=\"IndexError\"><code class=\"xref py py-exc docutils literal notranslate\"><span class=\"pre\">IndexError</span></code></a>.</p>\n",
      "<p>If a <em>weights</em> sequence is specified, selections are made according to the\n",
      "relative weights.  Alternatively, if a <em>cum_weights</em> sequence is given, the\n",
      "selections are made according to the cumulative weights (perhaps computed\n",
      "using <a class=\"reference internal\" href=\"itertools.html#itertools.accumulate\" title=\"itertools.accumulate\"><code class=\"xref py py-func docutils literal notranslate\"><span class=\"pre\">itertools.accumulate()</span></code></a>).  For example, the relative weights\n",
      "<code class=\"docutils literal notranslate\"><span class=\"pre\">[10,</span> <span class=\"pre\">5,</span> <span class=\"pre\">30,</span> <span class=\"pre\">5]</span></code> are equivalent to the cumulative weights\n",
      "<code class=\"docutils literal notranslate\"><span class=\"pre\">[10,</span> <span class=\"pre\">15,</span> <span class=\"pre\">45,</span> <span class=\"pre\">50]</span></code>.  Internally, the relative weights are converted to\n",
      "cumulative weights before making selections, so supplying the cumulative\n",
      "weights saves work.</p>\n",
      "<p>If neither <em>weights</em> nor <em>cum_weights</em> are specified, selections are made\n",
      "with equal probability.  If a weights sequence is supplied, it must be\n",
      "the same length as the <em>population</em> sequence.  It is a <a class=\"reference internal\" href=\"exceptions.html#TypeError\" title=\"TypeError\"><code class=\"xref py py-exc docutils literal notranslate\"><span class=\"pre\">TypeError</span></code></a>\n",
      "to specify both <em>weights</em> and <em>cum_weights</em>.</p>\n",
      "<p>The <em>weights</em> or <em>cum_weights</em> can use any numeric type that interoperates\n",
      "with the <a class=\"reference internal\" href=\"functions.html#float\" title=\"float\"><code class=\"xref py py-class docutils literal notranslate\"><span class=\"pre\">float</span></code></a> values returned by <a class=\"reference internal\" href=\"#module-random\" title=\"random: Generate pseudo-random numbers with various common distributions.\"><code class=\"xref py py-func docutils literal notranslate\"><span class=\"pre\">random()</span></code></a> (that includes\n",
      "integers, floats, and fractions but excludes decimals).  Weights are assumed\n",
      "to be non-negative and finite.  A <a class=\"reference internal\" href=\"exceptions.html#ValueError\" title=\"ValueError\"><code class=\"xref py py-exc docutils literal notranslate\"><span class=\"pre\">ValueError</span></code></a> is raised if all\n",
      "weights are zero.</p>\n",
      "<p>For a given seed, the <a class=\"reference internal\" href=\"#random.choices\" title=\"random.choices\"><code class=\"xref py py-func docutils literal notranslate\"><span class=\"pre\">choices()</span></code></a> function with equal weighting\n",
      "typically produces a different sequence than repeated calls to\n",
      "<a class=\"reference internal\" href=\"#random.choice\" title=\"random.choice\"><code class=\"xref py py-func docutils literal notranslate\"><span class=\"pre\">choice()</span></code></a>.  The algorithm used by <a class=\"reference internal\" href=\"#random.choices\" title=\"random.choices\"><code class=\"xref py py-func docutils literal notranslate\"><span class=\"pre\">choices()</span></code></a> uses floating\n",
      "point arithmetic for internal consistency and speed.  The algorithm used\n",
      "by <a class=\"reference internal\" href=\"#random.choice\" title=\"random.choice\"><code class=\"xref py py-func docutils literal notranslate\"><span class=\"pre\">choice()</span></code></a> defaults to integer arithmetic with repeated selections\n",
      "to avoid small biases from round-off error.</p>\n",
      "<div class=\"versionadded\">\n",
      "<p><span class=\"versionmodified added\">New in version 3.6.</span></p>\n",
      "</div>\n",
      "<div class=\"versionchanged\">\n",
      "<p><span class=\"versionmodified changed\">Changed in version 3.9: </span>Raises a <a class=\"reference internal\" href=\"exceptions.html#ValueError\" title=\"ValueError\"><code class=\"xref py py-exc docutils literal notranslate\"><span class=\"pre\">ValueError</span></code></a> if all weights are zero.</p>\n",
      "</div>\n",
      "</dd>, <dd><p>Shuffle the sequence <em>x</em> in place.</p>\n",
      "<p>The optional argument <em>random</em> is a 0-argument function returning a random\n",
      "float in [0.0, 1.0); by default, this is the function <a class=\"reference internal\" href=\"#random.random\" title=\"random.random\"><code class=\"xref py py-func docutils literal notranslate\"><span class=\"pre\">random()</span></code></a>.</p>\n",
      "<p>To shuffle an immutable sequence and return a new shuffled list, use\n",
      "<code class=\"docutils literal notranslate\"><span class=\"pre\">sample(x,</span> <span class=\"pre\">k=len(x))</span></code> instead.</p>\n",
      "<p>Note that even for small <code class=\"docutils literal notranslate\"><span class=\"pre\">len(x)</span></code>, the total number of permutations of <em>x</em>\n",
      "can quickly grow larger than the period of most random number generators.\n",
      "This implies that most permutations of a long sequence can never be\n",
      "generated.  For example, a sequence of length 2080 is the largest that\n",
      "can fit within the period of the Mersenne Twister random number generator.</p>\n",
      "<div class=\"deprecated-removed\">\n",
      "<p><span class=\"versionmodified\">Deprecated since version 3.9, will be removed in version 3.11: </span>The optional parameter <em>random</em>.</p>\n",
      "</div>\n",
      "</dd>, <dd><p>Return a <em>k</em> length list of unique elements chosen from the population sequence\n",
      "or set. Used for random sampling without replacement.</p>\n",
      "<p>Returns a new list containing elements from the population while leaving the\n",
      "original population unchanged.  The resulting list is in selection order so that\n",
      "all sub-slices will also be valid random samples.  This allows raffle winners\n",
      "(the sample) to be partitioned into grand prize and second place winners (the\n",
      "subslices).</p>\n",
      "<p>Members of the population need not be <a class=\"reference internal\" href=\"../glossary.html#term-hashable\"><span class=\"xref std std-term\">hashable</span></a> or unique.  If the population\n",
      "contains repeats, then each occurrence is a possible selection in the sample.</p>\n",
      "<p>Repeated elements can be specified one at a time or with the optional\n",
      "keyword-only <em>counts</em> parameter.  For example, <code class=\"docutils literal notranslate\"><span class=\"pre\">sample(['red',</span> <span class=\"pre\">'blue'],</span>\n",
      "<span class=\"pre\">counts=[4,</span> <span class=\"pre\">2],</span> <span class=\"pre\">k=5)</span></code> is equivalent to <code class=\"docutils literal notranslate\"><span class=\"pre\">sample(['red',</span> <span class=\"pre\">'red',</span> <span class=\"pre\">'red',</span> <span class=\"pre\">'red',</span>\n",
      "<span class=\"pre\">'blue',</span> <span class=\"pre\">'blue'],</span> <span class=\"pre\">k=5)</span></code>.</p>\n",
      "<p>To choose a sample from a range of integers, use a <a class=\"reference internal\" href=\"stdtypes.html#range\" title=\"range\"><code class=\"xref py py-func docutils literal notranslate\"><span class=\"pre\">range()</span></code></a> object as an\n",
      "argument.  This is especially fast and space efficient for sampling from a large\n",
      "population:  <code class=\"docutils literal notranslate\"><span class=\"pre\">sample(range(10000000),</span> <span class=\"pre\">k=60)</span></code>.</p>\n",
      "<p>If the sample size is larger than the population size, a <a class=\"reference internal\" href=\"exceptions.html#ValueError\" title=\"ValueError\"><code class=\"xref py py-exc docutils literal notranslate\"><span class=\"pre\">ValueError</span></code></a>\n",
      "is raised.</p>\n",
      "<div class=\"versionchanged\">\n",
      "<p><span class=\"versionmodified changed\">Changed in version 3.9: </span>Added the <em>counts</em> parameter.</p>\n",
      "</div>\n",
      "<div class=\"deprecated\">\n",
      "<p><span class=\"versionmodified deprecated\">Deprecated since version 3.9: </span>In the future, the <em>population</em> must be a sequence.  Instances of\n",
      "<a class=\"reference internal\" href=\"stdtypes.html#set\" title=\"set\"><code class=\"xref py py-class docutils literal notranslate\"><span class=\"pre\">set</span></code></a> are no longer supported.  The set must first be converted\n",
      "to a <a class=\"reference internal\" href=\"stdtypes.html#list\" title=\"list\"><code class=\"xref py py-class docutils literal notranslate\"><span class=\"pre\">list</span></code></a> or <a class=\"reference internal\" href=\"stdtypes.html#tuple\" title=\"tuple\"><code class=\"xref py py-class docutils literal notranslate\"><span class=\"pre\">tuple</span></code></a>, preferably in a deterministic\n",
      "order so that the sample is reproducible.</p>\n",
      "</div>\n",
      "</dd>, <dd><p>Return the next random floating point number in the range [0.0, 1.0).</p>\n",
      "</dd>, <dd><p>Return a random floating point number <em>N</em> such that <code class=\"docutils literal notranslate\"><span class=\"pre\">a</span> <span class=\"pre\">&lt;=</span> <span class=\"pre\">N</span> <span class=\"pre\">&lt;=</span> <span class=\"pre\">b</span></code> for\n",
      "<code class=\"docutils literal notranslate\"><span class=\"pre\">a</span> <span class=\"pre\">&lt;=</span> <span class=\"pre\">b</span></code> and <code class=\"docutils literal notranslate\"><span class=\"pre\">b</span> <span class=\"pre\">&lt;=</span> <span class=\"pre\">N</span> <span class=\"pre\">&lt;=</span> <span class=\"pre\">a</span></code> for <code class=\"docutils literal notranslate\"><span class=\"pre\">b</span> <span class=\"pre\">&lt;</span> <span class=\"pre\">a</span></code>.</p>\n",
      "<p>The end-point value <code class=\"docutils literal notranslate\"><span class=\"pre\">b</span></code> may or may not be included in the range\n",
      "depending on floating-point rounding in the equation <code class=\"docutils literal notranslate\"><span class=\"pre\">a</span> <span class=\"pre\">+</span> <span class=\"pre\">(b-a)</span> <span class=\"pre\">*</span> <span class=\"pre\">random()</span></code>.</p>\n",
      "</dd>, <dd><p>Return a random floating point number <em>N</em> such that <code class=\"docutils literal notranslate\"><span class=\"pre\">low</span> <span class=\"pre\">&lt;=</span> <span class=\"pre\">N</span> <span class=\"pre\">&lt;=</span> <span class=\"pre\">high</span></code> and\n",
      "with the specified <em>mode</em> between those bounds.  The <em>low</em> and <em>high</em> bounds\n",
      "default to zero and one.  The <em>mode</em> argument defaults to the midpoint\n",
      "between the bounds, giving a symmetric distribution.</p>\n",
      "</dd>, <dd><p>Beta distribution.  Conditions on the parameters are <code class=\"docutils literal notranslate\"><span class=\"pre\">alpha</span> <span class=\"pre\">&gt;</span> <span class=\"pre\">0</span></code> and\n",
      "<code class=\"docutils literal notranslate\"><span class=\"pre\">beta</span> <span class=\"pre\">&gt;</span> <span class=\"pre\">0</span></code>. Returned values range between 0 and 1.</p>\n",
      "</dd>, <dd><p>Exponential distribution.  <em>lambd</em> is 1.0 divided by the desired\n",
      "mean.  It should be nonzero.  (The parameter would be called\n",
      "“lambda”, but that is a reserved word in Python.)  Returned values\n",
      "range from 0 to positive infinity if <em>lambd</em> is positive, and from\n",
      "negative infinity to 0 if <em>lambd</em> is negative.</p>\n",
      "</dd>, <dd><p>Gamma distribution.  (<em>Not</em> the gamma function!)  Conditions on the\n",
      "parameters are <code class=\"docutils literal notranslate\"><span class=\"pre\">alpha</span> <span class=\"pre\">&gt;</span> <span class=\"pre\">0</span></code> and <code class=\"docutils literal notranslate\"><span class=\"pre\">beta</span> <span class=\"pre\">&gt;</span> <span class=\"pre\">0</span></code>.</p>\n",
      "<p>The probability distribution function is:</p>\n",
      "<div class=\"highlight-python3 notranslate\"><div class=\"highlight\"><pre><span></span>          <span class=\"n\">x</span> <span class=\"o\">**</span> <span class=\"p\">(</span><span class=\"n\">alpha</span> <span class=\"o\">-</span> <span class=\"mi\">1</span><span class=\"p\">)</span> <span class=\"o\">*</span> <span class=\"n\">math</span><span class=\"o\">.</span><span class=\"n\">exp</span><span class=\"p\">(</span><span class=\"o\">-</span><span class=\"n\">x</span> <span class=\"o\">/</span> <span class=\"n\">beta</span><span class=\"p\">)</span>\n",
      "<span class=\"n\">pdf</span><span class=\"p\">(</span><span class=\"n\">x</span><span class=\"p\">)</span> <span class=\"o\">=</span>  <span class=\"o\">--------------------------------------</span>\n",
      "            <span class=\"n\">math</span><span class=\"o\">.</span><span class=\"n\">gamma</span><span class=\"p\">(</span><span class=\"n\">alpha</span><span class=\"p\">)</span> <span class=\"o\">*</span> <span class=\"n\">beta</span> <span class=\"o\">**</span> <span class=\"n\">alpha</span>\n",
      "</pre></div>\n",
      "</div>\n",
      "</dd>, <dd><p>Normal distribution, also called the Gaussian distribution.  <em>mu</em> is the mean,\n",
      "and <em>sigma</em> is the standard deviation.  This is slightly faster than\n",
      "the <a class=\"reference internal\" href=\"#random.normalvariate\" title=\"random.normalvariate\"><code class=\"xref py py-func docutils literal notranslate\"><span class=\"pre\">normalvariate()</span></code></a> function defined below.</p>\n",
      "<p>Multithreading note:  When two threads call this function\n",
      "simultaneously, it is possible that they will receive the\n",
      "same return value.  This can be avoided in three ways.\n",
      "1) Have each thread use a different instance of the random\n",
      "number generator. 2) Put locks around all calls. 3) Use the\n",
      "slower, but thread-safe <a class=\"reference internal\" href=\"#random.normalvariate\" title=\"random.normalvariate\"><code class=\"xref py py-func docutils literal notranslate\"><span class=\"pre\">normalvariate()</span></code></a> function instead.</p>\n",
      "</dd>, <dd><p>Log normal distribution.  If you take the natural logarithm of this\n",
      "distribution, you’ll get a normal distribution with mean <em>mu</em> and standard\n",
      "deviation <em>sigma</em>.  <em>mu</em> can have any value, and <em>sigma</em> must be greater than\n",
      "zero.</p>\n",
      "</dd>, <dd><p>Normal distribution.  <em>mu</em> is the mean, and <em>sigma</em> is the standard deviation.</p>\n",
      "</dd>, <dd><p><em>mu</em> is the mean angle, expressed in radians between 0 and 2*<em>pi</em>, and <em>kappa</em>\n",
      "is the concentration parameter, which must be greater than or equal to zero.  If\n",
      "<em>kappa</em> is equal to zero, this distribution reduces to a uniform random angle\n",
      "over the range 0 to 2*<em>pi</em>.</p>\n",
      "</dd>, <dd><p>Pareto distribution.  <em>alpha</em> is the shape parameter.</p>\n",
      "</dd>, <dd><p>Weibull distribution.  <em>alpha</em> is the scale parameter and <em>beta</em> is the shape\n",
      "parameter.</p>\n",
      "</dd>, <dd><p>Class that implements the default pseudo-random number generator used by the\n",
      "<a class=\"reference internal\" href=\"#module-random\" title=\"random: Generate pseudo-random numbers with various common distributions.\"><code class=\"xref py py-mod docutils literal notranslate\"><span class=\"pre\">random</span></code></a> module.</p>\n",
      "<div class=\"deprecated\">\n",
      "<p><span class=\"versionmodified deprecated\">Deprecated since version 3.9: </span>In the future, the <em>seed</em> must be one of the following types:\n",
      "<code class=\"xref py py-class docutils literal notranslate\"><span class=\"pre\">NoneType</span></code>, <a class=\"reference internal\" href=\"functions.html#int\" title=\"int\"><code class=\"xref py py-class docutils literal notranslate\"><span class=\"pre\">int</span></code></a>, <a class=\"reference internal\" href=\"functions.html#float\" title=\"float\"><code class=\"xref py py-class docutils literal notranslate\"><span class=\"pre\">float</span></code></a>, <a class=\"reference internal\" href=\"stdtypes.html#str\" title=\"str\"><code class=\"xref py py-class docutils literal notranslate\"><span class=\"pre\">str</span></code></a>,\n",
      "<a class=\"reference internal\" href=\"stdtypes.html#bytes\" title=\"bytes\"><code class=\"xref py py-class docutils literal notranslate\"><span class=\"pre\">bytes</span></code></a>, or <a class=\"reference internal\" href=\"stdtypes.html#bytearray\" title=\"bytearray\"><code class=\"xref py py-class docutils literal notranslate\"><span class=\"pre\">bytearray</span></code></a>.</p>\n",
      "</div>\n",
      "</dd>, <dd><p>Class that uses the <a class=\"reference internal\" href=\"os.html#os.urandom\" title=\"os.urandom\"><code class=\"xref py py-func docutils literal notranslate\"><span class=\"pre\">os.urandom()</span></code></a> function for generating random numbers\n",
      "from sources provided by the operating system. Not available on all systems.\n",
      "Does not rely on software state, and sequences are not reproducible. Accordingly,\n",
      "the <a class=\"reference internal\" href=\"#random.seed\" title=\"random.seed\"><code class=\"xref py py-meth docutils literal notranslate\"><span class=\"pre\">seed()</span></code></a> method has no effect and is ignored.\n",
      "The <a class=\"reference internal\" href=\"#random.getstate\" title=\"random.getstate\"><code class=\"xref py py-meth docutils literal notranslate\"><span class=\"pre\">getstate()</span></code></a> and <a class=\"reference internal\" href=\"#random.setstate\" title=\"random.setstate\"><code class=\"xref py py-meth docutils literal notranslate\"><span class=\"pre\">setstate()</span></code></a> methods raise\n",
      "<a class=\"reference internal\" href=\"exceptions.html#NotImplementedError\" title=\"NotImplementedError\"><code class=\"xref py py-exc docutils literal notranslate\"><span class=\"pre\">NotImplementedError</span></code></a> if called.</p>\n",
      "</dd>]\n"
     ]
    }
   ],
   "source": [
    "description = soup.body.findAll('dd')   #in html page for description of specific function\n",
    "print(description)"
   ]
  },
  {
   "cell_type": "code",
   "execution_count": 11,
   "metadata": {},
   "outputs": [
    {
     "name": "stdout",
     "output_type": "stream",
     "text": [
      "['random.seed', 'random.getstate', 'random.setstate', 'random.randbytes', 'random.randrange', 'random.randint', 'random.getrandbits', 'random.choice', 'random.choices', 'random.shuffle', 'random.sample', 'random.random', 'random.uniform', 'random.triangular', 'random.betavariate', 'random.expovariate', 'random.gammavariate', 'random.gauss', 'random.lognormvariate', 'random.normalvariate', 'random.vonmisesvariate', 'random.paretovariate', 'random.weibullvariate', 'random.Random', 'random.SystemRandom']\n",
      "['Initialize the random number generator. If a is omitted or None, the current system time is used.  If randomness sources are provided by the operating system, they are used instead of the system time (see the os.urandom() function for details on availability). If a is an int, it is used directly. With version 2 (the default), a str, bytes, or bytearray object gets converted to an int and all of its bits are used. With version 1 (provided for reproducing random sequences from older versions of Python), the algorithm for str and bytes generates a narrower range of seeds.  Changed in version 3.2: Moved to the version 2 scheme which uses all of the bits in a string seed.   Deprecated since version 3.9: In the future, the seed must be one of the following types: NoneType, int, float, str, bytes, or bytearray.  ', 'Return an object capturing the current internal state of the generator.  This object can be passed to setstate() to restore the state. ', 'state should have been obtained from a previous call to getstate(), and setstate() restores the internal state of the generator to what it was at the time getstate() was called. ', 'Generate n random bytes. This method should not be used for generating security tokens. Use secrets.token_bytes() instead.  New in version 3.9.  ', \"Return a randomly selected element from range(start, stop, step).  This is equivalent to choice(range(start, stop, step)), but doesn’t actually build a range object. The positional argument pattern matches that of range().  Keyword arguments should not be used because the function may use them in unexpected ways.  Changed in version 3.2: randrange() is more sophisticated about producing equally distributed values.  Formerly it used a style like int(random()*n) which could produce slightly uneven distributions.   Deprecated since version 3.10: The automatic conversion of non-integer types to equivalent integers is deprecated.  Currently randrange(10.0) is losslessly converted to randrange(10).  In the future, this will raise a TypeError.   Deprecated since version 3.10: The exception raised for non-integral values such as randrange(10.5) or randrange('10') will be changed from ValueError to TypeError.  \", 'Return a random integer N such that a <= N <= b.  Alias for randrange(a, b+1). ', 'Returns a non-negative Python integer with k random bits. This method is supplied with the MersenneTwister generator and some other generators may also provide it as an optional part of the API. When available, getrandbits() enables randrange() to handle arbitrarily large ranges.  Changed in version 3.9: This method now accepts zero for k.  ', 'Return a random element from the non-empty sequence seq. If seq is empty, raises IndexError. ', 'Return a k sized list of elements chosen from the population with replacement. If the population is empty, raises IndexError. If a weights sequence is specified, selections are made according to the relative weights.  Alternatively, if a cum_weights sequence is given, the selections are made according to the cumulative weights (perhaps computed using itertools.accumulate()).  For example, the relative weights [10, 5, 30, 5] are equivalent to the cumulative weights [10, 15, 45, 50].  Internally, the relative weights are converted to cumulative weights before making selections, so supplying the cumulative weights saves work. If neither weights nor cum_weights are specified, selections are made with equal probability.  If a weights sequence is supplied, it must be the same length as the population sequence.  It is a TypeError to specify both weights and cum_weights. The weights or cum_weights can use any numeric type that interoperates with the float values returned by random() (that includes integers, floats, and fractions but excludes decimals).  Weights are assumed to be non-negative and finite.  A ValueError is raised if all weights are zero. For a given seed, the choices() function with equal weighting typically produces a different sequence than repeated calls to choice().  The algorithm used by choices() uses floating point arithmetic for internal consistency and speed.  The algorithm used by choice() defaults to integer arithmetic with repeated selections to avoid small biases from round-off error.  New in version 3.6.   Changed in version 3.9: Raises a ValueError if all weights are zero.  ', 'Shuffle the sequence x in place. The optional argument random is a 0-argument function returning a random float in [0.0, 1.0); by default, this is the function random(). To shuffle an immutable sequence and return a new shuffled list, use sample(x, k=len(x)) instead. Note that even for small len(x), the total number of permutations of x can quickly grow larger than the period of most random number generators. This implies that most permutations of a long sequence can never be generated.  For example, a sequence of length 2080 is the largest that can fit within the period of the Mersenne Twister random number generator.  Deprecated since version 3.9, will be removed in version 3.11: The optional parameter random.  ', \"Return a k length list of unique elements chosen from the population sequence or set. Used for random sampling without replacement. Returns a new list containing elements from the population while leaving the original population unchanged.  The resulting list is in selection order so that all sub-slices will also be valid random samples.  This allows raffle winners (the sample) to be partitioned into grand prize and second place winners (the subslices). Members of the population need not be hashable or unique.  If the population contains repeats, then each occurrence is a possible selection in the sample. Repeated elements can be specified one at a time or with the optional keyword-only counts parameter.  For example, sample(['red', 'blue'], counts=[4, 2], k=5) is equivalent to sample(['red', 'red', 'red', 'red', 'blue', 'blue'], k=5). To choose a sample from a range of integers, use a range() object as an argument.  This is especially fast and space efficient for sampling from a large population:  sample(range(10000000), k=60). If the sample size is larger than the population size, a ValueError is raised.  Changed in version 3.9: Added the counts parameter.   Deprecated since version 3.9: In the future, the population must be a sequence.  Instances of set are no longer supported.  The set must first be converted to a list or tuple, preferably in a deterministic order so that the sample is reproducible.  \", 'Return the next random floating point number in the range [0.0, 1.0). ', 'Return a random floating point number N such that a <= N <= b for a <= b and b <= N <= a for b < a. The end-point value b may or may not be included in the range depending on floating-point rounding in the equation a + (b-a) * random(). ', 'Return a random floating point number N such that low <= N <= high and with the specified mode between those bounds.  The low and high bounds default to zero and one.  The mode argument defaults to the midpoint between the bounds, giving a symmetric distribution. ', 'Beta distribution.  Conditions on the parameters are alpha > 0 and beta > 0. Returned values range between 0 and 1. ', 'Exponential distribution.  lambd is 1.0 divided by the desired mean.  It should be nonzero.  (The parameter would be called “lambda”, but that is a reserved word in Python.)  Returned values range from 0 to positive infinity if lambd is positive, and from negative infinity to 0 if lambd is negative. ', 'Gamma distribution.  (Not the gamma function!)  Conditions on the parameters are alpha > 0 and beta > 0. The probability distribution function is:           x ** (alpha - 1) * math.exp(-x / beta) pdf(x) =  --------------------------------------             math.gamma(alpha) * beta ** alpha   ', 'Normal distribution, also called the Gaussian distribution.  mu is the mean, and sigma is the standard deviation.  This is slightly faster than the normalvariate() function defined below. Multithreading note:  When two threads call this function simultaneously, it is possible that they will receive the same return value.  This can be avoided in three ways. 1) Have each thread use a different instance of the random number generator. 2) Put locks around all calls. 3) Use the slower, but thread-safe normalvariate() function instead. ', 'Log normal distribution.  If you take the natural logarithm of this distribution, you’ll get a normal distribution with mean mu and standard deviation sigma.  mu can have any value, and sigma must be greater than zero. ', 'Normal distribution.  mu is the mean, and sigma is the standard deviation. ', 'mu is the mean angle, expressed in radians between 0 and 2*pi, and kappa is the concentration parameter, which must be greater than or equal to zero.  If kappa is equal to zero, this distribution reduces to a uniform random angle over the range 0 to 2*pi. ', 'Pareto distribution.  alpha is the shape parameter. ', 'Weibull distribution.  alpha is the scale parameter and beta is the shape parameter. ', 'Class that implements the default pseudo-random number generator used by the random module.  Deprecated since version 3.9: In the future, the seed must be one of the following types: NoneType, int, float, str, bytes, or bytearray.  ', 'Class that uses the os.urandom() function for generating random numbers from sources provided by the operating system. Not available on all systems. Does not rely on software state, and sequences are not reproducible. Accordingly, the seed() method has no effect and is ignored. The getstate() and setstate() methods raise NotImplementedError if called. ']\n"
     ]
    }
   ],
   "source": [
    "function_usage = []\n",
    "for item in description:\n",
    "    item = item.text\n",
    "    item = item.replace('\\n', ' ')\n",
    "    function_usage.append(item)\n",
    "    \n",
    "print(function_names)\n",
    "print(function_usage)"
   ]
  },
  {
   "cell_type": "code",
   "execution_count": 12,
   "metadata": {},
   "outputs": [
    {
     "name": "stdout",
     "output_type": "stream",
     "text": [
      "25\n",
      "25\n"
     ]
    }
   ],
   "source": [
    "print(len(function_names))\n",
    "print(len(function_usage))"
   ]
  },
  {
   "cell_type": "code",
   "execution_count": 13,
   "metadata": {},
   "outputs": [
    {
     "data": {
      "text/html": [
       "<div>\n",
       "<style scoped>\n",
       "    .dataframe tbody tr th:only-of-type {\n",
       "        vertical-align: middle;\n",
       "    }\n",
       "\n",
       "    .dataframe tbody tr th {\n",
       "        vertical-align: top;\n",
       "    }\n",
       "\n",
       "    .dataframe thead th {\n",
       "        text-align: right;\n",
       "    }\n",
       "</style>\n",
       "<table border=\"1\" class=\"dataframe\">\n",
       "  <thead>\n",
       "    <tr style=\"text-align: right;\">\n",
       "      <th></th>\n",
       "      <th>function name</th>\n",
       "      <th>function usage</th>\n",
       "    </tr>\n",
       "  </thead>\n",
       "  <tbody>\n",
       "    <tr>\n",
       "      <th>0</th>\n",
       "      <td>random.seed</td>\n",
       "      <td>Initialize the random number generator. If a i...</td>\n",
       "    </tr>\n",
       "    <tr>\n",
       "      <th>1</th>\n",
       "      <td>random.getstate</td>\n",
       "      <td>Return an object capturing the current interna...</td>\n",
       "    </tr>\n",
       "    <tr>\n",
       "      <th>2</th>\n",
       "      <td>random.setstate</td>\n",
       "      <td>state should have been obtained from a previou...</td>\n",
       "    </tr>\n",
       "    <tr>\n",
       "      <th>3</th>\n",
       "      <td>random.randbytes</td>\n",
       "      <td>Generate n random bytes. This method should no...</td>\n",
       "    </tr>\n",
       "    <tr>\n",
       "      <th>4</th>\n",
       "      <td>random.randrange</td>\n",
       "      <td>Return a randomly selected element from range(...</td>\n",
       "    </tr>\n",
       "  </tbody>\n",
       "</table>\n",
       "</div>"
      ],
      "text/plain": [
       "      function name                                     function usage\n",
       "0       random.seed  Initialize the random number generator. If a i...\n",
       "1   random.getstate  Return an object capturing the current interna...\n",
       "2   random.setstate  state should have been obtained from a previou...\n",
       "3  random.randbytes  Generate n random bytes. This method should no...\n",
       "4  random.randrange  Return a randomly selected element from range(..."
      ]
     },
     "execution_count": 13,
     "metadata": {},
     "output_type": "execute_result"
    }
   ],
   "source": [
    "data = pd.DataFrame({'function name': function_names, 'function usage': function_usage})\n",
    "data.head()"
   ]
  },
  {
   "cell_type": "code",
   "execution_count": 14,
   "metadata": {},
   "outputs": [],
   "source": [
    "#data.to_csv('my_file.csv')"
   ]
  },
  {
   "cell_type": "code",
   "execution_count": null,
   "metadata": {},
   "outputs": [],
   "source": []
  }
 ],
 "metadata": {
  "kernelspec": {
   "display_name": "Python 3",
   "language": "python",
   "name": "python3"
  },
  "language_info": {
   "codemirror_mode": {
    "name": "ipython",
    "version": 3
   },
   "file_extension": ".py",
   "mimetype": "text/x-python",
   "name": "python",
   "nbconvert_exporter": "python",
   "pygments_lexer": "ipython3",
   "version": "3.8.5"
  }
 },
 "nbformat": 4,
 "nbformat_minor": 4
}
